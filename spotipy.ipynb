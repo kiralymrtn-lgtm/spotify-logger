{
 "cells": [
  {
   "cell_type": "code",
   "execution_count": 2,
   "id": "9b3851fa-be9f-454e-bcf1-b4ae7f9754d1",
   "metadata": {},
   "outputs": [
    {
     "name": "stdout",
     "output_type": "stream",
     "text": [
      "✅ Csomagok betöltve!\n"
     ]
    }
   ],
   "source": [
    "# 1. SZÜKSÉGES CSOMAGOK TELEPÍTÉSE\n",
    "\n",
    "import spotipy\n",
    "from spotipy.oauth2 import SpotifyOAuth, SpotifyClientCredentials\n",
    "import pandas as pd\n",
    "import os\n",
    "from dotenv import load_dotenv\n",
    "import json\n",
    "from datetime import datetime, timedelta\n",
    "import time\n",
    "\n",
    "with open(\".env\", \"w\") as f:\n",
    "    f.write(\"SPOTIFY_CLIENT_ID=8fba0b01e7854156973eeb5f56bed0c0\\n\")\n",
    "    f.write(\"SPOTIFY_CLIENT_SECRET=a186aecee80e4b2ca80cd5a6f9294d91\\n\")\n",
    "    f.write(\"SPOTIFY_REDIRECT_URI=http://localhost:8888/callback\\n\")\n",
    "\n",
    "# Környezeti változók betöltése\n",
    "load_dotenv()\n",
    "\n",
    "print(\"✅ Csomagok betöltve!\")"
   ]
  },
  {
   "cell_type": "code",
   "execution_count": 4,
   "id": "9f237e5c-6c27-4557-890a-b7888f938349",
   "metadata": {},
   "outputs": [
    {
     "name": "stdout",
     "output_type": "stream",
     "text": [
      "✅ Credentials sikeresen betöltve!\n"
     ]
    }
   ],
   "source": [
    "# =============================================\n",
    "# 2. SPOTIFY DEVELOPER CREDENTIALS SETUP\n",
    "# =============================================\n",
    "\n",
    "# FONTOS: Először regisztrálj a Spotify Developer Console-on:\n",
    "# 1. Menj a https://developer.spotify.com/dashboard oldalra\n",
    "# 2. Hozz létre egy új alkalmazást\n",
    "# 3. Add hozzá a Redirect URI-t: http://localhost:8888/callback\n",
    "# 4. Másold ki a Client ID és Client Secret értékeket\n",
    "\n",
    "# Credentials betöltése\n",
    "CLIENT_ID = os.getenv('SPOTIFY_CLIENT_ID')\n",
    "CLIENT_SECRET = os.getenv('SPOTIFY_CLIENT_SECRET')\n",
    "REDIRECT_URI = os.getenv('SPOTIFY_REDIRECT_URI')\n",
    "\n",
    "# Ellenőrzés\n",
    "if not all([CLIENT_ID, CLIENT_SECRET, REDIRECT_URI]):\n",
    "    print(\"❌ HIBA: Hiányoznak a Spotify API credentials!\")\n",
    "    print(\"Hozz létre egy .env fájlt a következő tartalommal:\")\n",
    "    print(\"SPOTIFY_CLIENT_ID=your_client_id\")\n",
    "    print(\"SPOTIFY_CLIENT_SECRET=your_client_secret\") \n",
    "    print(\"SPOTIFY_REDIRECT_URI=http://localhost:8888/callback\")\n",
    "else:\n",
    "    print(\"✅ Credentials sikeresen betöltve!\")"
   ]
  },
  {
   "cell_type": "code",
   "execution_count": 8,
   "id": "3981dc08-fa20-4aa0-bafa-bb6f335fab5e",
   "metadata": {},
   "outputs": [
    {
     "name": "stderr",
     "output_type": "stream",
     "text": [
      "Using 'localhost' as a redirect URI is being deprecated. Use a loopback IP address such as 127.0.0.1 to ensure your app remains functional.\n"
     ]
    },
    {
     "name": "stdout",
     "output_type": "stream",
     "text": [
      "❌ Kapcsolódási hiba: [Errno 48] Address already in use\n"
     ]
    }
   ],
   "source": [
    "# =============================================\n",
    "# 3. SPOTIFY API KAPCSOLAT LÉTREHOZÁSA\n",
    "# =============================================\n",
    "\n",
    "# Scope meghatározása (milyen adatokhoz kérünk hozzáférést)\n",
    "SCOPE = \"user-read-recently-played user-top-read user-read-playback-state user-library-read playlist-read-private\"\n",
    "\n",
    "# OAuth flow létrehozása (felhasználói hozzáféréshez)\n",
    "def create_spotify_client():\n",
    "    \"\"\"Spotify kliens létrehozása OAuth autentikációval\"\"\"\n",
    "    try:\n",
    "        sp = spotipy.Spotify(auth_manager=SpotifyOAuth(\n",
    "            client_id=CLIENT_ID,\n",
    "            client_secret=CLIENT_SECRET,\n",
    "            redirect_uri=REDIRECT_URI,\n",
    "            scope=SCOPE,\n",
    "            cache_path=\".cache\"\n",
    "        ))\n",
    "        \n",
    "        # Teszteljük a kapcsolatot\n",
    "        user_info = sp.current_user()\n",
    "        print(f\"✅ Sikeres kapcsolódás! Bejelentkezett felhasználó: {user_info['display_name']}\")\n",
    "        return sp\n",
    "        \n",
    "    except Exception as e:\n",
    "        print(f\"❌ Kapcsolódási hiba: {e}\")\n",
    "        return None\n",
    "\n",
    "# Kliens létrehozása\n",
    "sp = create_spotify_client()"
   ]
  },
  {
   "cell_type": "code",
   "execution_count": null,
   "id": "001d1d86-d6ea-43d2-b4c3-78ca362cad0f",
   "metadata": {},
   "outputs": [],
   "source": []
  }
 ],
 "metadata": {
  "kernelspec": {
   "display_name": "Python 3 (ipykernel)",
   "language": "python",
   "name": "python3"
  },
  "language_info": {
   "codemirror_mode": {
    "name": "ipython",
    "version": 3
   },
   "file_extension": ".py",
   "mimetype": "text/x-python",
   "name": "python",
   "nbconvert_exporter": "python",
   "pygments_lexer": "ipython3",
   "version": "3.12.4"
  }
 },
 "nbformat": 4,
 "nbformat_minor": 5
}
